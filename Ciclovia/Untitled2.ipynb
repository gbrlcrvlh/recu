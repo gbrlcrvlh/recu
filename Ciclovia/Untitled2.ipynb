{
 "cells": [
  {
   "cell_type": "code",
   "execution_count": 1,
   "metadata": {},
   "outputs": [],
   "source": [
    "import osmnx as ox"
   ]
  },
  {
   "cell_type": "code",
   "execution_count": 3,
   "metadata": {},
   "outputs": [],
   "source": [
    "import math"
   ]
  },
  {
   "cell_type": "code",
   "execution_count": 16,
   "metadata": {},
   "outputs": [
    {
     "data": {
      "text/plain": [
       "[[0.5253219888177297, -0.8509035245341184, 0],\n",
       " [0.8509035245341184, 0.5253219888177297, 0],\n",
       " [0, 0, 1]]"
      ]
     },
     "execution_count": 16,
     "metadata": {},
     "output_type": "execute_result"
    }
   ],
   "source": [
    "teta = 45\n",
    "mr = [[math.cos(teta),-math.sin(teta),0],[math.sin(teta),math.cos(teta),0],[0,0,1]]\n",
    "mr"
   ]
  },
  {
   "cell_type": "code",
   "execution_count": 35,
   "metadata": {},
   "outputs": [],
   "source": [
    "p1 = [-2, -1, 1]\n",
    "p2 = [1, -1, 1]\n",
    "p3 = [1, 2, 1]\n",
    "\n",
    "r1 = [0,0,0]\n",
    "r2 = [0,0,0]\n",
    "r3 = [0,0,0]\n",
    "count = 0\n",
    "for i in mr:\n",
    "    for j in range (0,3):\n",
    "        r1[count] += i[j]*p1[j]\n",
    "    count+=1\n",
    "\n",
    "count = 0\n",
    "for i in mr:\n",
    "    for j in range (0,3):\n",
    "        r2[count] += i[j]*p2[j]\n",
    "    count+=1\n",
    "\n",
    "count = 0\n",
    "for i in mr:\n",
    "    for j in range (0,3):\n",
    "        r3[count] += i[j]*p3[j]\n",
    "    count+=1\n"
   ]
  },
  {
   "cell_type": "code",
   "execution_count": 37,
   "metadata": {},
   "outputs": [
    {
     "name": "stdout",
     "output_type": "stream",
     "text": [
      "[-0.19974045310134103, -2.2271290378859665, 1] [1.3762255133518482, 0.3255815357163887, 1] [-1.1764850602505073, 1.9015475021695778, 1]\n"
     ]
    }
   ],
   "source": [
    "print(r1, r2, r3)"
   ]
  }
 ],
 "metadata": {
  "kernelspec": {
   "display_name": "Python 3",
   "language": "python",
   "name": "python3"
  },
  "language_info": {
   "codemirror_mode": {
    "name": "ipython",
    "version": 3
   },
   "file_extension": ".py",
   "mimetype": "text/x-python",
   "name": "python",
   "nbconvert_exporter": "python",
   "pygments_lexer": "ipython3",
   "version": "3.7.3"
  }
 },
 "nbformat": 4,
 "nbformat_minor": 2
}
